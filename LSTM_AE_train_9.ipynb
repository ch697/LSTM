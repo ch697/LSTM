{
  "nbformat": 4,
  "nbformat_minor": 0,
  "metadata": {
    "colab": {
      "name": "LSTM AE_train_9",
      "provenance": [],
      "collapsed_sections": [],
      "authorship_tag": "ABX9TyP6eCp5GdV9G6TIVnqz9X+T",
      "include_colab_link": true
    },
    "kernelspec": {
      "name": "python3",
      "display_name": "Python 3"
    },
    "language_info": {
      "name": "python"
    },
    "accelerator": "GPU"
  },
  "cells": [
    {
      "cell_type": "markdown",
      "metadata": {
        "id": "view-in-github",
        "colab_type": "text"
      },
      "source": [
        "<a href=\"https://colab.research.google.com/github/ch697/LSTM/blob/main/LSTM_AE_train_9.ipynb\" target=\"_parent\"><img src=\"https://colab.research.google.com/assets/colab-badge.svg\" alt=\"Open In Colab\"/></a>"
      ]
    },
    {
      "cell_type": "code",
      "metadata": {
        "colab": {
          "base_uri": "https://localhost:8080/"
        },
        "id": "jIXBoPDhHrRN",
        "outputId": "7bf04e64-7317-4056-c012-6bd043481efe"
      },
      "source": [
        "from google.colab import drive\n",
        "drive.mount('/content/drive')\n"
      ],
      "execution_count": null,
      "outputs": [
        {
          "output_type": "stream",
          "text": [
            "Mounted at /content/drive\n"
          ],
          "name": "stdout"
        }
      ]
    },
    {
      "cell_type": "markdown",
      "metadata": {
        "id": "kElb53_apgcF"
      },
      "source": [
        "# 0. 라이브러리 불러오기\n",
        "\n",
        "\n",
        "\n"
      ]
    },
    {
      "cell_type": "code",
      "metadata": {
        "colab": {
          "base_uri": "https://localhost:8080/"
        },
        "id": "qEFy1V0koImi",
        "outputId": "27b2a302-1ddf-4afa-9de6-322f31b7f28b"
      },
      "source": [
        "import pandas as pd\n",
        "import numpy as np\n",
        "from sklearn.preprocessing import MinMaxScaler\n",
        "from sklearn.externals import joblib\n",
        "import random\n",
        "import seaborn as sns\n",
        "sns.set(color_codes= True)\n",
        "import matplotlib.pyplot as plt\n",
        "%matplotlib inline\n",
        "\n",
        "from numpy.random import seed\n",
        "import tensorflow as tf\n",
        "tf.compat.v1.logging.set_verbosity(tf.compat.v1.logging.ERROR)\n",
        "\n",
        "from keras.layers import Input, Dropout, Dense, LSTM, TimeDistributed, RepeatVector\n",
        "from keras.models import Model\n",
        "from keras.callbacks import EarlyStopping,ModelCheckpoint\n",
        "from keras import regularizers\n",
        "from sklearn import metrics\n",
        "from scipy.io.arff import loadarff\n",
        "from sklearn.model_selection import train_test_split\n",
        "from sklearn.metrics import roc_curve, auc, precision_recall_curve\n",
        "\n",
        "import os\n",
        "os.environ[\"CUDA_VISIBLE_DEVICES\"]=''\n"
      ],
      "execution_count": null,
      "outputs": [
        {
          "output_type": "stream",
          "text": [
            "/usr/local/lib/python3.7/dist-packages/sklearn/externals/joblib/__init__.py:15: FutureWarning: sklearn.externals.joblib is deprecated in 0.21 and will be removed in 0.23. Please import this functionality directly from joblib, which can be installed with: pip install joblib. If this warning is raised when loading pickled models, you may need to re-serialize those models with scikit-learn 0.21+.\n",
            "  warnings.warn(msg, category=FutureWarning)\n"
          ],
          "name": "stderr"
        }
      ]
    },
    {
      "cell_type": "markdown",
      "metadata": {
        "id": "Qet5MEYHppS0"
      },
      "source": [
        "# 1. 데이터 불러오기\n",
        "\n",
        "\n",
        "1.   CSV 형태로 되어있는 데이터를 pandas 라이브러리를 사용해 불러온다.\n",
        "2.   항목 추가\n",
        "\n"
      ]
    },
    {
      "cell_type": "code",
      "metadata": {
        "id": "kDYKDIcWpcu_"
      },
      "source": [
        "import pandas as pd\n",
        "\n",
        "#정상 데이터 불러오기\n",
        "normal_data_raw = pd.read_excel(\"/content/drive/MyDrive/LSTM_AE/train_9.xlsx\")\n",
        "\n",
        "#테스트 데이터(정상+비정상) 불러오기\n",
        "test_raw = pd.read_excel(\"/content/drive/MyDrive/LSTM_AE/test_9.xlsx\")"
      ],
      "execution_count": null,
      "outputs": []
    },
    {
      "cell_type": "code",
      "metadata": {
        "colab": {
          "base_uri": "https://localhost:8080/",
          "height": 205
        },
        "id": "FMlSEpB9Iu7e",
        "outputId": "37b4debc-6c93-4c28-c936-94addc461265"
      },
      "source": [
        "#확인\n",
        "normal_data_raw.head()"
      ],
      "execution_count": null,
      "outputs": [
        {
          "output_type": "execute_result",
          "data": {
            "text/html": [
              "<div>\n",
              "<style scoped>\n",
              "    .dataframe tbody tr th:only-of-type {\n",
              "        vertical-align: middle;\n",
              "    }\n",
              "\n",
              "    .dataframe tbody tr th {\n",
              "        vertical-align: top;\n",
              "    }\n",
              "\n",
              "    .dataframe thead th {\n",
              "        text-align: right;\n",
              "    }\n",
              "</style>\n",
              "<table border=\"1\" class=\"dataframe\">\n",
              "  <thead>\n",
              "    <tr style=\"text-align: right;\">\n",
              "      <th></th>\n",
              "      <th>Flow Duration</th>\n",
              "      <th>Flow Bytes/s</th>\n",
              "      <th>Flow Packets/s</th>\n",
              "      <th>Flow IAT Mean</th>\n",
              "      <th>Flow IAT Max</th>\n",
              "      <th>Flow IAT Min</th>\n",
              "      <th>Bwd IAT Total</th>\n",
              "      <th>Bwd IAT Mean</th>\n",
              "      <th>Bwd IAT Max</th>\n",
              "      <th>Bwd Packets/s</th>\n",
              "    </tr>\n",
              "  </thead>\n",
              "  <tbody>\n",
              "    <tr>\n",
              "      <th>0</th>\n",
              "      <td>4</td>\n",
              "      <td>3000000.0</td>\n",
              "      <td>5.000000e+05</td>\n",
              "      <td>4.0</td>\n",
              "      <td>4</td>\n",
              "      <td>4</td>\n",
              "      <td>0</td>\n",
              "      <td>0.0</td>\n",
              "      <td>0</td>\n",
              "      <td>0.0</td>\n",
              "    </tr>\n",
              "    <tr>\n",
              "      <th>1</th>\n",
              "      <td>1</td>\n",
              "      <td>12000000.0</td>\n",
              "      <td>2.000000e+06</td>\n",
              "      <td>1.0</td>\n",
              "      <td>1</td>\n",
              "      <td>1</td>\n",
              "      <td>0</td>\n",
              "      <td>0.0</td>\n",
              "      <td>0</td>\n",
              "      <td>0.0</td>\n",
              "    </tr>\n",
              "    <tr>\n",
              "      <th>2</th>\n",
              "      <td>1</td>\n",
              "      <td>12000000.0</td>\n",
              "      <td>2.000000e+06</td>\n",
              "      <td>1.0</td>\n",
              "      <td>1</td>\n",
              "      <td>1</td>\n",
              "      <td>0</td>\n",
              "      <td>0.0</td>\n",
              "      <td>0</td>\n",
              "      <td>0.0</td>\n",
              "    </tr>\n",
              "    <tr>\n",
              "      <th>3</th>\n",
              "      <td>1</td>\n",
              "      <td>12000000.0</td>\n",
              "      <td>2.000000e+06</td>\n",
              "      <td>1.0</td>\n",
              "      <td>1</td>\n",
              "      <td>1</td>\n",
              "      <td>0</td>\n",
              "      <td>0.0</td>\n",
              "      <td>0</td>\n",
              "      <td>0.0</td>\n",
              "    </tr>\n",
              "    <tr>\n",
              "      <th>4</th>\n",
              "      <td>3</td>\n",
              "      <td>4000000.0</td>\n",
              "      <td>6.666667e+05</td>\n",
              "      <td>3.0</td>\n",
              "      <td>3</td>\n",
              "      <td>3</td>\n",
              "      <td>0</td>\n",
              "      <td>0.0</td>\n",
              "      <td>0</td>\n",
              "      <td>0.0</td>\n",
              "    </tr>\n",
              "  </tbody>\n",
              "</table>\n",
              "</div>"
            ],
            "text/plain": [
              "    Flow Duration  Flow Bytes/s  ...   Bwd IAT Max   Bwd Packets/s\n",
              "0               4     3000000.0  ...             0             0.0\n",
              "1               1    12000000.0  ...             0             0.0\n",
              "2               1    12000000.0  ...             0             0.0\n",
              "3               1    12000000.0  ...             0             0.0\n",
              "4               3     4000000.0  ...             0             0.0\n",
              "\n",
              "[5 rows x 10 columns]"
            ]
          },
          "metadata": {
            "tags": []
          },
          "execution_count": 4
        }
      ]
    },
    {
      "cell_type": "code",
      "metadata": {
        "colab": {
          "base_uri": "https://localhost:8080/",
          "height": 205
        },
        "id": "ZeX26GRbK46u",
        "outputId": "20c04294-2026-469c-b967-58d5df18186a"
      },
      "source": [
        "#확인\n",
        "test_raw.head()"
      ],
      "execution_count": null,
      "outputs": [
        {
          "output_type": "execute_result",
          "data": {
            "text/html": [
              "<div>\n",
              "<style scoped>\n",
              "    .dataframe tbody tr th:only-of-type {\n",
              "        vertical-align: middle;\n",
              "    }\n",
              "\n",
              "    .dataframe tbody tr th {\n",
              "        vertical-align: top;\n",
              "    }\n",
              "\n",
              "    .dataframe thead th {\n",
              "        text-align: right;\n",
              "    }\n",
              "</style>\n",
              "<table border=\"1\" class=\"dataframe\">\n",
              "  <thead>\n",
              "    <tr style=\"text-align: right;\">\n",
              "      <th></th>\n",
              "      <th>Flow Duration</th>\n",
              "      <th>Flow Bytes/s</th>\n",
              "      <th>Flow Packets/s</th>\n",
              "      <th>Flow IAT Mean</th>\n",
              "      <th>Flow IAT Max</th>\n",
              "      <th>Flow IAT Min</th>\n",
              "      <th>Bwd IAT Total</th>\n",
              "      <th>Bwd IAT Mean</th>\n",
              "      <th>Bwd IAT Max</th>\n",
              "      <th>Bwd Packets/s</th>\n",
              "      <th>Label</th>\n",
              "    </tr>\n",
              "  </thead>\n",
              "  <tbody>\n",
              "    <tr>\n",
              "      <th>0</th>\n",
              "      <td>3</td>\n",
              "      <td>4.000000e+06</td>\n",
              "      <td>666666.66670</td>\n",
              "      <td>3.0</td>\n",
              "      <td>3</td>\n",
              "      <td>3</td>\n",
              "      <td>0</td>\n",
              "      <td>0.0</td>\n",
              "      <td>0</td>\n",
              "      <td>0.000000</td>\n",
              "      <td>0</td>\n",
              "    </tr>\n",
              "    <tr>\n",
              "      <th>1</th>\n",
              "      <td>109</td>\n",
              "      <td>1.100917e+05</td>\n",
              "      <td>18348.62385</td>\n",
              "      <td>109.0</td>\n",
              "      <td>109</td>\n",
              "      <td>109</td>\n",
              "      <td>0</td>\n",
              "      <td>0.0</td>\n",
              "      <td>0</td>\n",
              "      <td>9174.311927</td>\n",
              "      <td>0</td>\n",
              "    </tr>\n",
              "    <tr>\n",
              "      <th>2</th>\n",
              "      <td>52</td>\n",
              "      <td>2.307692e+05</td>\n",
              "      <td>38461.53846</td>\n",
              "      <td>52.0</td>\n",
              "      <td>52</td>\n",
              "      <td>52</td>\n",
              "      <td>0</td>\n",
              "      <td>0.0</td>\n",
              "      <td>0</td>\n",
              "      <td>19230.769230</td>\n",
              "      <td>0</td>\n",
              "    </tr>\n",
              "    <tr>\n",
              "      <th>3</th>\n",
              "      <td>34</td>\n",
              "      <td>3.529412e+05</td>\n",
              "      <td>58823.52941</td>\n",
              "      <td>34.0</td>\n",
              "      <td>34</td>\n",
              "      <td>34</td>\n",
              "      <td>0</td>\n",
              "      <td>0.0</td>\n",
              "      <td>0</td>\n",
              "      <td>29411.764710</td>\n",
              "      <td>0</td>\n",
              "    </tr>\n",
              "    <tr>\n",
              "      <th>4</th>\n",
              "      <td>3</td>\n",
              "      <td>4.000000e+06</td>\n",
              "      <td>666666.66670</td>\n",
              "      <td>3.0</td>\n",
              "      <td>3</td>\n",
              "      <td>3</td>\n",
              "      <td>0</td>\n",
              "      <td>0.0</td>\n",
              "      <td>0</td>\n",
              "      <td>0.000000</td>\n",
              "      <td>0</td>\n",
              "    </tr>\n",
              "  </tbody>\n",
              "</table>\n",
              "</div>"
            ],
            "text/plain": [
              "    Flow Duration  Flow Bytes/s  ...   Bwd Packets/s   Label\n",
              "0               3  4.000000e+06  ...        0.000000       0\n",
              "1             109  1.100917e+05  ...     9174.311927       0\n",
              "2              52  2.307692e+05  ...    19230.769230       0\n",
              "3              34  3.529412e+05  ...    29411.764710       0\n",
              "4               3  4.000000e+06  ...        0.000000       0\n",
              "\n",
              "[5 rows x 11 columns]"
            ]
          },
          "metadata": {
            "tags": []
          },
          "execution_count": 5
        }
      ]
    },
    {
      "cell_type": "code",
      "metadata": {
        "colab": {
          "base_uri": "https://localhost:8080/"
        },
        "id": "98omwKmZYZK9",
        "outputId": "abdaefc1-1a35-42c5-bc8d-2783c1b1742e"
      },
      "source": [
        "normal_data_raw.isnull().sum()"
      ],
      "execution_count": null,
      "outputs": [
        {
          "output_type": "execute_result",
          "data": {
            "text/plain": [
              " Flow Duration     0\n",
              "Flow Bytes/s       0\n",
              " Flow Packets/s    0\n",
              " Flow IAT Mean     0\n",
              " Flow IAT Max      0\n",
              " Flow IAT Min      0\n",
              "Bwd IAT Total      0\n",
              " Bwd IAT Mean      0\n",
              " Bwd IAT Max       0\n",
              " Bwd Packets/s     0\n",
              "dtype: int64"
            ]
          },
          "metadata": {
            "tags": []
          },
          "execution_count": 6
        }
      ]
    },
    {
      "cell_type": "code",
      "metadata": {
        "colab": {
          "base_uri": "https://localhost:8080/"
        },
        "id": "WcnWXiLxaPw3",
        "outputId": "23dfdbc4-08ef-4ab9-898e-fe1752bfc9f6"
      },
      "source": [
        "normal_data_raw.info()"
      ],
      "execution_count": null,
      "outputs": [
        {
          "output_type": "stream",
          "text": [
            "<class 'pandas.core.frame.DataFrame'>\n",
            "RangeIndex: 100000 entries, 0 to 99999\n",
            "Data columns (total 10 columns):\n",
            " #   Column           Non-Null Count   Dtype  \n",
            "---  ------           --------------   -----  \n",
            " 0    Flow Duration   100000 non-null  int64  \n",
            " 1   Flow Bytes/s     100000 non-null  float64\n",
            " 2    Flow Packets/s  100000 non-null  float64\n",
            " 3    Flow IAT Mean   100000 non-null  float64\n",
            " 4    Flow IAT Max    100000 non-null  int64  \n",
            " 5    Flow IAT Min    100000 non-null  int64  \n",
            " 6   Bwd IAT Total    100000 non-null  int64  \n",
            " 7    Bwd IAT Mean    100000 non-null  float64\n",
            " 8    Bwd IAT Max     100000 non-null  int64  \n",
            " 9    Bwd Packets/s   100000 non-null  float64\n",
            "dtypes: float64(5), int64(5)\n",
            "memory usage: 7.6 MB\n"
          ],
          "name": "stdout"
        }
      ]
    },
    {
      "cell_type": "code",
      "metadata": {
        "colab": {
          "base_uri": "https://localhost:8080/"
        },
        "id": "WgQyqiO0Z3D1",
        "outputId": "e19a0a0b-7f4f-459b-c53b-9f81481abea1"
      },
      "source": [
        "test_raw.isnull().sum()"
      ],
      "execution_count": null,
      "outputs": [
        {
          "output_type": "execute_result",
          "data": {
            "text/plain": [
              " Flow Duration     0\n",
              "Flow Bytes/s       0\n",
              " Flow Packets/s    0\n",
              " Flow IAT Mean     0\n",
              " Flow IAT Max      0\n",
              " Flow IAT Min      0\n",
              "Bwd IAT Total      0\n",
              " Bwd IAT Mean      0\n",
              " Bwd IAT Max       0\n",
              " Bwd Packets/s     0\n",
              " Label             0\n",
              "dtype: int64"
            ]
          },
          "metadata": {
            "tags": []
          },
          "execution_count": 9
        }
      ]
    },
    {
      "cell_type": "code",
      "metadata": {
        "id": "Fb5TflJ57rKf"
      },
      "source": [
        "#pd.DataFrame -> list\n",
        "normal_data_list = normal_data_raw.values.tolist()\n",
        "test_list = test_raw.values.tolist()"
      ],
      "execution_count": null,
      "outputs": []
    },
    {
      "cell_type": "markdown",
      "metadata": {
        "id": "LYwLYWMaJ6mj"
      },
      "source": [
        "#2. 데이터 셋 분리\n",
        "\n",
        "\n",
        "1.   정상, 이상 데이터를 아래와 같이 분리해서 훈련 / 검증 / 테스트 데이터셋을 만든다.\n",
        "2.   항목 추가\n",
        "\n"
      ]
    },
    {
      "cell_type": "code",
      "metadata": {
        "colab": {
          "base_uri": "https://localhost:8080/"
        },
        "id": "zf-zTQ3OJ57T",
        "outputId": "91fcdf73-ad5b-46cd-c250-e83fb063f499"
      },
      "source": [
        "import numpy as np\n",
        "from sklearn.model_selection import train_test_split\n",
        "\n",
        "###전처리 (list 는 .shape 안됨. np.array 형태로 바꿔야)\n",
        "normal_data_train = np.array(normal_data_list)\n",
        "test_tot = np.array(test_list)\n",
        "\n",
        "##테스트, 검증 데이터 만들기\n",
        "x_test, x_valid, y_test, y_valid = train_test_split(test_tot[:,:-1], test_tot[:,-1], test_size = 0.3)\n",
        "\n",
        "print(x_test.shape)\n",
        "print(y_test.shape)\n",
        "print(x_valid.shape)\n",
        "print(y_valid.shape)"
      ],
      "execution_count": null,
      "outputs": [
        {
          "output_type": "stream",
          "text": [
            "(35000, 10)\n",
            "(35000,)\n",
            "(15000, 10)\n",
            "(15000,)\n"
          ],
          "name": "stdout"
        }
      ]
    },
    {
      "cell_type": "code",
      "metadata": {
        "colab": {
          "base_uri": "https://localhost:8080/"
        },
        "id": "jywl6biYNnTU",
        "outputId": "5299de02-5bb7-4082-9cfa-6553778785ad"
      },
      "source": [
        "test_tot.shape"
      ],
      "execution_count": null,
      "outputs": [
        {
          "output_type": "execute_result",
          "data": {
            "text/plain": [
              "(50000, 11)"
            ]
          },
          "metadata": {
            "tags": []
          },
          "execution_count": 9
        }
      ]
    },
    {
      "cell_type": "code",
      "metadata": {
        "colab": {
          "base_uri": "https://localhost:8080/"
        },
        "id": "8kKXkg-6NrU2",
        "outputId": "6ab72bdb-f0f0-4b0e-f0a7-2b9050260c52"
      },
      "source": [
        "normal_data_train.shape"
      ],
      "execution_count": null,
      "outputs": [
        {
          "output_type": "execute_result",
          "data": {
            "text/plain": [
              "(100000, 10)"
            ]
          },
          "metadata": {
            "tags": []
          },
          "execution_count": 10
        }
      ]
    },
    {
      "cell_type": "code",
      "metadata": {
        "colab": {
          "base_uri": "https://localhost:8080/"
        },
        "id": "8XpoPHJPY4F3",
        "outputId": "18ae0c2f-04f4-4c84-d464-63f97443dce2"
      },
      "source": [
        "normal_data_train"
      ],
      "execution_count": null,
      "outputs": [
        {
          "output_type": "execute_result",
          "data": {
            "text/plain": [
              "array([[4.00000000e+00, 3.00000000e+06, 5.00000000e+05, ...,\n",
              "        0.00000000e+00, 0.00000000e+00, 0.00000000e+00],\n",
              "       [1.00000000e+00, 1.20000000e+07, 2.00000000e+06, ...,\n",
              "        0.00000000e+00, 0.00000000e+00, 0.00000000e+00],\n",
              "       [1.00000000e+00, 1.20000000e+07, 2.00000000e+06, ...,\n",
              "        0.00000000e+00, 0.00000000e+00, 0.00000000e+00],\n",
              "       ...,\n",
              "       [1.00000000e+00, 3.70000000e+07, 2.00000000e+06, ...,\n",
              "        0.00000000e+00, 0.00000000e+00, 0.00000000e+00],\n",
              "       [1.51336980e+07, 2.44487501e+00, 2.64310812e-01, ...,\n",
              "        0.00000000e+00, 0.00000000e+00, 0.00000000e+00],\n",
              "       [3.14990000e+04, 5.46049081e+03, 1.26988158e+02, ...,\n",
              "        3.00000000e+00, 3.00000000e+00, 6.34940792e+01]])"
            ]
          },
          "metadata": {
            "tags": []
          },
          "execution_count": 11
        }
      ]
    },
    {
      "cell_type": "markdown",
      "metadata": {
        "id": "JWd8j5LzPalo"
      },
      "source": [
        "#3. 데이터 정규화\n",
        "\n",
        "\n",
        "1.   Sklearn의 StandardScaler 라이브러리를 사용해서 훈련 / 검증 / 테스트 데이터를 정규화한다.\n",
        "2.   항목 추가\n",
        "\n"
      ]
    },
    {
      "cell_type": "code",
      "metadata": {
        "id": "zN4A-3lWPe8j"
      },
      "source": [
        "from sklearn.preprocessing import StandardScaler\n",
        "from sklearn.preprocessing import RobustScaler\n",
        "from sklearn.preprocessing import MinMaxScaler\n",
        "\n",
        "#Standard Scaler 적용\n",
        "##stder.fit 오류-> 데이터에 NaN, infinity 값 제거\n",
        "stder = StandardScaler()\n",
        "stder.fit(normal_data_train)\n",
        "x_normal_train_scaled = stder.transform(normal_data_train)\n",
        "x_test_scaled = stder.transform(x_test)\n",
        "x_valid_scaled = stder.transform(x_valid)\n"
      ],
      "execution_count": null,
      "outputs": []
    },
    {
      "cell_type": "markdown",
      "metadata": {
        "id": "nBdHGF0Bhqbv"
      },
      "source": [
        "#4. 데이터 차원 변경"
      ]
    },
    {
      "cell_type": "code",
      "metadata": {
        "colab": {
          "base_uri": "https://localhost:8080/"
        },
        "id": "n-fpsoEdhpnE",
        "outputId": "22328daf-d616-4a09-ae51-d8515e337481"
      },
      "source": [
        "x_normal_train_scaled = x_normal_train_scaled.reshape(x_normal_train_scaled.shape[0], 1, x_normal_train_scaled.shape[1])\n",
        "x_test_scaled = x_test_scaled.reshape(x_test_scaled.shape[0], 1, x_test_scaled.shape[1])\n",
        "x_valid_scaled = x_valid_scaled.reshape(x_valid_scaled.shape[0],1,x_valid_scaled.shape[1])\n",
        "\n",
        "print(\"훈련 정상 데이터 스케일/차원 변경 결과 : \",x_normal_train_scaled.shape)\n",
        "print(\"검증 데이터 스케일/차원 변경 결과 : \",x_valid_scaled.shape)\n",
        "print(\"테스트 데이터 스케일/차원 변경 결과 : \",x_test_scaled.shape)"
      ],
      "execution_count": null,
      "outputs": [
        {
          "output_type": "stream",
          "text": [
            "훈련 정상 데이터 스케일/차원 변경 결과 :  (100000, 1, 10)\n",
            "검증 데이터 스케일/차원 변경 결과 :  (15000, 1, 10)\n",
            "테스트 데이터 스케일/차원 변경 결과 :  (35000, 1, 10)\n"
          ],
          "name": "stdout"
        }
      ]
    },
    {
      "cell_type": "markdown",
      "metadata": {
        "id": "Dt7CgoTWi6Nj"
      },
      "source": [
        "#5. LSTM AE 모델 구현\n"
      ]
    },
    {
      "cell_type": "code",
      "metadata": {
        "id": "5HWZwu5GjLUa"
      },
      "source": [
        "from keras.layers import  Input, Dropout, Dense, LSTM, TimeDistributed, RepeatVector\n",
        "\n",
        "# LSTM-AE 신경망 구축(LSTM 레이어 구축)\n",
        "def autoencoder_model(X):\n",
        "  inputs = Input(shape=(X.shape[1], X.shape[2]))\n",
        "  L1 = LSTM(140, activation='relu', return_sequences=True,\n",
        "            kernel_regularizer=regularizers.l2(0.00))(inputs)\n",
        "  L2 = LSTM(70, activation='relu', return_sequences=False)(L1)\n",
        "  L3 = RepeatVector(X.shape[1])(L2)\n",
        "  L4 = LSTM(70, activation='relu', return_sequences=True)(L3)\n",
        "  L5 = LSTM(140, activation='relu', return_sequences=True)(L4)\n",
        "  output = TimeDistributed(Dense(X.shape[2]))(L5)\n",
        "  model = Model(inputs=inputs, outputs=output)\n",
        "  return model\n",
        "\n"
      ],
      "execution_count": null,
      "outputs": []
    },
    {
      "cell_type": "code",
      "metadata": {
        "colab": {
          "base_uri": "https://localhost:8080/"
        },
        "id": "Q4DitNrrk_Rf",
        "outputId": "fae9b1ed-9ae0-4449-ae6c-d131a377cef0"
      },
      "source": [
        "# LSTM-AE Model\n",
        "model = autoencoder_model(x_normal_train_scaled)\n",
        "model.compile(optimizer='adam', loss='mse')\n",
        "model.summary()"
      ],
      "execution_count": null,
      "outputs": [
        {
          "output_type": "stream",
          "text": [
            "Model: \"model\"\n",
            "_________________________________________________________________\n",
            "Layer (type)                 Output Shape              Param #   \n",
            "=================================================================\n",
            "input_1 (InputLayer)         [(None, 1, 10)]           0         \n",
            "_________________________________________________________________\n",
            "lstm (LSTM)                  (None, 1, 140)            84560     \n",
            "_________________________________________________________________\n",
            "lstm_1 (LSTM)                (None, 70)                59080     \n",
            "_________________________________________________________________\n",
            "repeat_vector (RepeatVector) (None, 1, 70)             0         \n",
            "_________________________________________________________________\n",
            "lstm_2 (LSTM)                (None, 1, 70)             39480     \n",
            "_________________________________________________________________\n",
            "lstm_3 (LSTM)                (None, 1, 140)            118160    \n",
            "_________________________________________________________________\n",
            "time_distributed (TimeDistri (None, 1, 10)             1410      \n",
            "=================================================================\n",
            "Total params: 302,690\n",
            "Trainable params: 302,690\n",
            "Non-trainable params: 0\n",
            "_________________________________________________________________\n"
          ],
          "name": "stdout"
        }
      ]
    },
    {
      "cell_type": "code",
      "metadata": {
        "colab": {
          "base_uri": "https://localhost:8080/"
        },
        "id": "Dqpqp1bclftK",
        "outputId": "47d07cf2-9320-455f-fe60-7a6ebab2076e"
      },
      "source": [
        "# 모델 학습 및 평가\n",
        "nb_epochs = 100\n",
        "batch_size = 32\n",
        "callbacks = [EarlyStopping(monitor='val_loss',patience=7)]\n",
        "history = model.fit(x_normal_train_scaled, x_normal_train_scaled, epochs=nb_epochs, batch_size=batch_size,\n",
        "                     callbacks=callbacks, validation_split=0.3)\n",
        "#callbacks=callbacks,"
      ],
      "execution_count": null,
      "outputs": [
        {
          "output_type": "stream",
          "text": [
            "Epoch 1/100\n",
            "2188/2188 [==============================] - 40s 8ms/step - loss: 0.3778 - val_loss: 0.0040\n",
            "Epoch 2/100\n",
            "2188/2188 [==============================] - 15s 7ms/step - loss: 0.0921 - val_loss: 0.0048\n",
            "Epoch 3/100\n",
            "2188/2188 [==============================] - 15s 7ms/step - loss: 0.0314 - val_loss: 0.0014\n",
            "Epoch 4/100\n",
            "2188/2188 [==============================] - 15s 7ms/step - loss: 0.0429 - val_loss: 0.0085\n",
            "Epoch 5/100\n",
            "2188/2188 [==============================] - 15s 7ms/step - loss: 0.0509 - val_loss: 0.0031\n",
            "Epoch 6/100\n",
            "2188/2188 [==============================] - 16s 7ms/step - loss: 0.0404 - val_loss: 0.0055\n",
            "Epoch 7/100\n",
            "2188/2188 [==============================] - 15s 7ms/step - loss: 0.0592 - val_loss: 0.0038\n",
            "Epoch 8/100\n",
            "2188/2188 [==============================] - 16s 7ms/step - loss: 0.0254 - val_loss: 9.5983e-04\n",
            "Epoch 9/100\n",
            "2188/2188 [==============================] - 15s 7ms/step - loss: 0.0109 - val_loss: 0.0073\n",
            "Epoch 10/100\n",
            "2188/2188 [==============================] - 14s 7ms/step - loss: 0.0377 - val_loss: 0.0450\n",
            "Epoch 11/100\n",
            "2188/2188 [==============================] - 14s 7ms/step - loss: 0.0306 - val_loss: 0.0061\n",
            "Epoch 12/100\n",
            "2188/2188 [==============================] - 16s 7ms/step - loss: 0.0638 - val_loss: 5.7856e-04\n",
            "Epoch 13/100\n",
            "2188/2188 [==============================] - 15s 7ms/step - loss: 0.0108 - val_loss: 0.0063\n",
            "Epoch 14/100\n",
            "2188/2188 [==============================] - 14s 6ms/step - loss: 0.0639 - val_loss: 7.9322e-04\n",
            "Epoch 15/100\n",
            "2188/2188 [==============================] - 14s 6ms/step - loss: 0.0290 - val_loss: 0.0029\n",
            "Epoch 16/100\n",
            "2188/2188 [==============================] - 15s 7ms/step - loss: 0.0209 - val_loss: 0.0028\n",
            "Epoch 17/100\n",
            "2188/2188 [==============================] - 16s 7ms/step - loss: 0.0528 - val_loss: 6.9895e-04\n",
            "Epoch 18/100\n",
            "2188/2188 [==============================] - 14s 7ms/step - loss: 0.0195 - val_loss: 0.0015\n",
            "Epoch 19/100\n",
            "2188/2188 [==============================] - 14s 6ms/step - loss: 0.0431 - val_loss: 0.0033\n"
          ],
          "name": "stdout"
        }
      ]
    },
    {
      "cell_type": "code",
      "metadata": {
        "id": "nNmzBuXRu44T"
      },
      "source": [
        "from tensorflow import keras\n",
        "# Calling `save('my_model')` creates a SavedModel folder `my_model`. 모델 저장\n",
        "model.save(\"/content/drive/MyDrive/LSTM_AE/LSTM_model_5\")"
      ],
      "execution_count": null,
      "outputs": []
    },
    {
      "cell_type": "code",
      "metadata": {
        "colab": {
          "base_uri": "https://localhost:8080/"
        },
        "id": "j3qblqJxyGkH",
        "outputId": "5cad5ada-bf2c-4e0f-9aea-c05d565ecd9b"
      },
      "source": [
        "print(history.history)"
      ],
      "execution_count": null,
      "outputs": [
        {
          "output_type": "stream",
          "text": [
            "{'loss': [0.22076964378356934, 0.07814216613769531, 0.03875764086842537, 0.04900545999407768, 0.059658508747816086, 0.04158725216984749, 0.09808363020420074, 0.07552304863929749, 0.011008281260728836, 0.03844551742076874, 0.019450897350907326, 0.061578091233968735, 0.023093553259968758, 0.02801026962697506, 0.03142859414219856, 0.05240768566727638, 0.030795378610491753, 0.024826113134622574, 0.03483770042657852], 'val_loss': [0.004014412872493267, 0.004779896233230829, 0.001359321759082377, 0.008533535525202751, 0.0030629602260887623, 0.005544046405702829, 0.0037626251578330994, 0.0009598270407877862, 0.00734979473054409, 0.044953178614377975, 0.006146508734673262, 0.0005785601679235697, 0.006345165893435478, 0.0007932186708785594, 0.002896389923989773, 0.002847536699846387, 0.0006989514222368598, 0.0015092595713213086, 0.0032712840475142]}\n"
          ],
          "name": "stdout"
        }
      ]
    },
    {
      "cell_type": "code",
      "metadata": {
        "colab": {
          "base_uri": "https://localhost:8080/",
          "height": 457
        },
        "id": "vn23nqvElhrc",
        "outputId": "c9037224-f259-4def-b7cd-c899f2d86523"
      },
      "source": [
        "#학습 손실 시각화\n",
        "fig, ax = plt.subplots(figsize=(14,6), dpi=80)\n",
        "ax.plot(history.history['loss'], 'b',label='Train', linewidth=2)\n",
        "ax.plot(history.history['val_loss'], 'r', label='Validation', linewidth=2)\n",
        "ax.set_title('Model loss', fontsize=16)\n",
        "ax.set_ylabel('Loss (mae)')\n",
        "ax.set_xlabel('Epoch')\n",
        "ax.legend(loc='upper right')\n",
        "plt.show()"
      ],
      "execution_count": null,
      "outputs": [
        {
          "output_type": "display_data",
          "data": {
            "image/png": "[encoded data removed]",
            "text/plain": [
              "<Figure size 1120x480 with 1 Axes>"
            ]
          },
          "metadata": {
            "tags": [],
            "needs_background": "light"
          }
        }
      ]
    },
    {
      "cell_type": "markdown",
      "metadata": {
        "id": "cI8sABT9zZDJ"
      },
      "source": [
        "# 6. 임계값(Threshold) 설정\n",
        "\n",
        "\n",
        "1.   Sklearn에서 제공하는 precision_recall_curve 라이브러리를 사용해서 아래와 같이 임계값을 설정함\n",
        "2.   항목 추가\n",
        "\n"
      ]
    },
    {
      "cell_type": "code",
      "metadata": {
        "colab": {
          "base_uri": "https://localhost:8080/",
          "height": 375
        },
        "id": "06SdXjSEzmi7",
        "outputId": "e0ccdd1e-8c09-4b24-cc8a-e46a549bf0cb"
      },
      "source": [
        "#검증 데이터 입력 (결과: 입력 데이터를 재구성한 결과)\n",
        "predictions_3d = model.predict(x_valid_scaled)\n",
        "predictions = predictions_3d.reshape(predictions_3d.shape[0], predictions_3d.shape[2])\n",
        "x_valid_ = x_valid_scaled.reshape(x_valid_scaled.shape[0], x_valid_scaled.shape[2])\n",
        "\n",
        "#재구성 손실 값 도출 (입력 데이터와 재구성 결과와의 차이)\n",
        "mse = np.mean(np.power(x_valid_ - predictions, 2), axis=1)\n",
        "\n",
        "error_df = pd.DataFrame({'Reconstruction_error':mse, 'True_class':y_valid})\n",
        "\n",
        "import pandas as pd\n",
        "\n",
        "precision_rt, recall_rt, threshold_rt = metrics.precision_recall_curve(error_df['True_class'], error_df['Reconstruction_error'])\n",
        "\n",
        "###모델 최적의 Threshold 값 찾기\n",
        "best_cnt_dic = abs(precision_rt - recall_rt)\n",
        "threshold_fixed = threshold_rt[np.argmin(best_cnt_dic)]\n",
        "print('precision: ',precision_rt[np.argmin(best_cnt_dic)], ', recall: ',recall_rt[np.argmin(best_cnt_dic)])\n",
        "print('threshold: ',threshold_fixed)\n",
        "########################\n",
        "\n",
        "plt.figure(figsize=(8,5))\n",
        "plt.plot(threshold_rt, precision_rt[1:], label='Precision')\n",
        "plt.plot(threshold_rt, recall_rt[1:], label='Recall')\n",
        "plt.xlabel('Threshold'); plt.ylabel('Precision/Recall')\n",
        "plt.legend()\n",
        "plt.show()"
      ],
      "execution_count": null,
      "outputs": [
        {
          "output_type": "stream",
          "text": [
            "precision:  0.9514446227929374 , recall:  0.9514446227929374\n",
            "threshold:  0.0027991323302572393\n"
          ],
          "name": "stdout"
        },
        {
          "output_type": "display_data",
          "data": {
            "image/png": "[encoded data removed]",
            "text/plain": [
              "<Figure size 576x360 with 1 Axes>"
            ]
          },
          "metadata": {
            "tags": [],
            "needs_background": "light"
          }
        }
      ]
    },
    {
      "cell_type": "markdown",
      "metadata": {
        "id": "cbpAxnu5UbaH"
      },
      "source": [
        "# 8. 모델 성능 평가\n",
        "\n",
        "\n",
        "1.   검증 데이터에 대해 Sklearn의 roc_curve 라이브러리를 사용해서 임계값 별 FPR, TPR 값을 도출한다.\n",
        "Sklearn의 auc 라이브러리를 사용해 AUROC 값을 도출하고, Matplotlib의 Pyplot을 사용해 시각화 한다.\n",
        "2.   항목 추가\n",
        "\n"
      ]
    },
    {
      "cell_type": "code",
      "metadata": {
        "colab": {
          "base_uri": "https://localhost:8080/",
          "height": 301
        },
        "id": "AAmA08IRUayp",
        "outputId": "038c3059-f3a9-43dd-ebfd-bca8f1d2caf0"
      },
      "source": [
        "from sklearn.metrics import roc_curve, auc\n",
        "\n",
        "###모델 성능 AUC/ROC 지표\n",
        "fpr, tpr, thresholds = roc_curve(y_valid, mse)\n",
        "roc_auc = auc(fpr, tpr)\n",
        "\n",
        "plt.title('Receiver Operating Characteristic')\n",
        "plt.plot(fpr, tpr, label='AUC = %0.4f'%roc_auc, linewidth=5)\n",
        "plt.legend(loc='lower right')\n",
        "plt.plot([0,1],[0,1],'r--')\n",
        "plt.xlim([-0.001, 1])\n",
        "plt.ylim([0, 1.001])\n",
        "plt.ylabel('True Positive Rate')\n",
        "plt.xlabel('False Positive Rate')\n",
        "plt.show();"
      ],
      "execution_count": null,
      "outputs": [
        {
          "output_type": "display_data",
          "data": {
            "image/png": "[encoded data removed]",
            "text/plain": [
              "<Figure size 432x288 with 1 Axes>"
            ]
          },
          "metadata": {
            "tags": [],
            "needs_background": "light"
          }
        }
      ]
    },
    {
      "cell_type": "markdown",
      "metadata": {
        "id": "g9zTYXT5WITc"
      },
      "source": [
        "# 9. 테스트\n",
        "\n",
        "\n",
        "1.   테스트 데이터에 대해 Sklearn의 confusion_matrix 라이브러리를 사용해 TN, FP, FN, TP 값을 2차원 리스트 형태로 받는다.\n",
        "2.   공식을 사용해 정확도(Accuracy)를 도출한다.\n",
        "\n"
      ]
    },
    {
      "cell_type": "code",
      "metadata": {
        "colab": {
          "base_uri": "https://localhost:8080/",
          "height": 319
        },
        "id": "HCrDToHkWHtG",
        "outputId": "8f508dc3-b79f-4516-815d-6c6fc9d8e916"
      },
      "source": [
        "# 검증 데이터 입력 (결과 : 입력 데이터를 재구성한 결과)\n",
        "test_predictions_3d = model.predict(x_test_scaled)\n",
        "test_predictions = test_predictions_3d.reshape(test_predictions_3d.shape[0], test_predictions_3d.shape[2])\n",
        "x_test_ = x_test_scaled.reshape(x_test_scaled.shape[0], x_test_scaled.shape[2])\n",
        "mse = np.mean(np.power(x_test_ - test_predictions, 2), axis=1)\n",
        "\n",
        "error_df = pd.DataFrame({'Reconstruction_error': mse,\n",
        "                         'True_class': y_test})\n",
        "pred_y = [1 if e > threshold_fixed else 0 for e in error_df['Reconstruction_error'].values]\n",
        "conf_matrix = metrics.confusion_matrix(error_df['True_class'], pred_y)\n",
        "\n",
        "accuracy = (conf_matrix[0][0]+conf_matrix[1][1])/conf_matrix.sum()\n",
        "print(accuracy)\n",
        "\n",
        "sns.heatmap(conf_matrix, xticklabels=['Normal', 'Break'], yticklabels=['Normal', 'Break'], annot=True, fmt='d', annot_kws={'size':10})\n",
        "b, t = plt.ylim()\n",
        "b += 0.5\n",
        "t -= 0.5\n",
        "plt.ylim(b,t)\n",
        "plt.title('Confusion Matrix')\n",
        "plt.xlabel('Predicted Class'); plt.ylabel('True Class')\n",
        "plt.show()"
      ],
      "execution_count": null,
      "outputs": [
        {
          "output_type": "stream",
          "text": [
            "0.9533142857142857\n"
          ],
          "name": "stdout"
        },
        {
          "output_type": "display_data",
          "data": {
            "image/png": "[encoded data removed]",
            "text/plain": [
              "<Figure size 432x288 with 2 Axes>"
            ]
          },
          "metadata": {
            "tags": [],
            "needs_background": "light"
          }
        }
      ]
    }
  ]
}